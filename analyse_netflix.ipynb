{
 "cells": [
  {
   "cell_type": "code",
   "execution_count": 4,
   "id": "d6ddf6e1-e4cb-4c14-80e4-4274bacc12fe",
   "metadata": {},
   "outputs": [],
   "source": [
    "import pandas as pd\n",
    "df = pd.read_csv(\"netflix_titles.csv\")"
   ]
  },
  {
   "cell_type": "markdown",
   "id": "99e85fd6-8e9f-4188-8391-17f2380f29bd",
   "metadata": {},
   "source": [
    "# Durée moyenne des films"
   ]
  },
  {
   "cell_type": "code",
   "execution_count": 3,
   "id": "3eaeb66c-4176-4393-930d-f544cdb771ad",
   "metadata": {},
   "outputs": [
    {
     "data": {
      "text/plain": [
       "99.30797842663195"
      ]
     },
     "execution_count": 3,
     "metadata": {},
     "output_type": "execute_result"
    }
   ],
   "source": [
    "df_duration = df[df[\"duration\"].str.contains(\"min\")][\"duration\"]\n",
    "df_duration.str.replace(\"min\", \"\").map(int).mean()"
   ]
  },
  {
   "cell_type": "markdown",
   "id": "edc55a7d-18d8-4bd5-b8ea-27437c8d78bf",
   "metadata": {},
   "source": [
    "# Récupérer pays plus importants"
   ]
  },
  {
   "cell_type": "code",
   "execution_count": 5,
   "id": "244de501-547b-402b-a29c-03d7b2d65525",
   "metadata": {},
   "outputs": [
    {
     "data": {
      "text/plain": [
       "{'United States': 2555, 'India': 923, 'United Kingdom': 397}"
      ]
     },
     "execution_count": 5,
     "metadata": {},
     "output_type": "execute_result"
    }
   ],
   "source": [
    "df[\"country\"].value_counts()[:3].to_dict()"
   ]
  },
  {
   "cell_type": "markdown",
   "id": "44b924a9-6d67-4b06-ae39-d6567702c500",
   "metadata": {},
   "source": [
    "# Nombre de films par année"
   ]
  },
  {
   "cell_type": "code",
   "execution_count": 11,
   "id": "3f755853-b8bb-4cbf-88f4-3837cdb759c4",
   "metadata": {},
   "outputs": [
    {
     "data": {
      "text/plain": [
       "2021      31\n",
       "2020     868\n",
       "2019     996\n",
       "2018    1121\n",
       "2017    1012\n",
       "2016     882\n",
       "2015     541\n",
       "2014     334\n",
       "2013     267\n",
       "2012     219\n",
       "Name: release_year, dtype: int64"
      ]
     },
     "execution_count": 11,
     "metadata": {},
     "output_type": "execute_result"
    }
   ],
   "source": [
    "df[\"release_year\"].value_counts().sort_index(ascending=False)[:10]"
   ]
  },
  {
   "cell_type": "markdown",
   "id": "3040ed4d-b0ac-4768-bb06-3d5f2edc7fde",
   "metadata": {},
   "source": [
    "# Récupérer la liste des réalisateurs"
   ]
  },
  {
   "cell_type": "code",
   "execution_count": 8,
   "id": "712028c7-2d2f-4f88-b6fd-4e359d8c9eb6",
   "metadata": {},
   "outputs": [
    {
     "data": {
      "text/plain": [
       "['Jorge Michel Grau',\n",
       " 'Gilbert Chan',\n",
       " 'Shane Acker',\n",
       " 'Robert Luketic',\n",
       " 'Serdar Akar',\n",
       " 'Yasir Al Yasiri',\n",
       " 'Kevin Reynolds',\n",
       " 'Shravan Kumar',\n",
       " 'Vikram Bhatt',\n",
       " 'Zak Hilditch']"
      ]
     },
     "execution_count": 8,
     "metadata": {},
     "output_type": "execute_result"
    }
   ],
   "source": [
    "df.director.dropna().unique().tolist()[:10]"
   ]
  },
  {
   "cell_type": "code",
   "execution_count": null,
   "id": "510757e0-6ef3-4709-828e-6d4636121109",
   "metadata": {},
   "outputs": [],
   "source": []
  }
 ],
 "metadata": {
  "kernelspec": {
   "display_name": "Python 3",
   "language": "python",
   "name": "python3"
  },
  "language_info": {
   "codemirror_mode": {
    "name": "ipython",
    "version": 3
   },
   "file_extension": ".py",
   "mimetype": "text/x-python",
   "name": "python",
   "nbconvert_exporter": "python",
   "pygments_lexer": "ipython3",
   "version": "3.9.1"
  }
 },
 "nbformat": 4,
 "nbformat_minor": 5
}
